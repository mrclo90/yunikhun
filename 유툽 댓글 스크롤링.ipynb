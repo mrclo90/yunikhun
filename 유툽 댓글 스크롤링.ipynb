{
 "cells": [
  {
   "cell_type": "code",
   "execution_count": 23,
   "metadata": {},
   "outputs": [],
   "source": [
    "from selenium import webdriver as wd \n",
    "from bs4 import BeautifulSoup \n",
    "import time "
   ]
  },
  {
   "cell_type": "code",
   "execution_count": 24,
   "metadata": {},
   "outputs": [],
   "source": [
    "driver = wd.Chrome(executable_path=\"C:/Users/mrclo/Desktop/chromedriver\") \n",
    "url = 'https://www.youtube.com/watch?v=M1Do-PVY3xw&list=RDTFaTag_GX9Y&index=2' \n",
    "driver.get(url) \n",
    "last_page_height = driver.execute_script(\"return document.documentElement.scrollHeight\") "
   ]
  },
  {
   "cell_type": "code",
   "execution_count": 25,
   "metadata": {},
   "outputs": [],
   "source": [
    "while True: \n",
    "    driver.execute_script(\"window.scrollTo(0, document.documentElement.scrollHeight);\") \n",
    "    time.sleep(3) \n",
    "    new_page_height = driver.execute_script(\"return document.documentElement.scrollHeight\") \n",
    "    \n",
    "    if new_page_height == last_page_height: \n",
    "        break \n",
    "    last_page_height = new_page_height"
   ]
  },
  {
   "cell_type": "code",
   "execution_count": 26,
   "metadata": {},
   "outputs": [],
   "source": [
    "html_source = driver.page_source\n",
    "driver.close()\n",
    "soup = BeautifulSoup(html_source, 'html.parser')"
   ]
  },
  {
   "cell_type": "code",
   "execution_count": 27,
   "metadata": {},
   "outputs": [],
   "source": [
    "youtube_user_IDs = soup.select('div#header-author > a > span')"
   ]
  },
  {
   "cell_type": "code",
   "execution_count": 28,
   "metadata": {},
   "outputs": [],
   "source": [
    "youtube_comments = soup.select('yt-formatted-string#content-text')"
   ]
  },
  {
   "cell_type": "code",
   "execution_count": 29,
   "metadata": {},
   "outputs": [],
   "source": [
    "str_youtube_userIDs = []\n",
    "str_youtube_comments = []\n",
    "\n",
    "for i in range(len(youtube_user_IDs)):\n",
    "    str_tmp = str(youtube_user_IDs[i].text)\n",
    "#     print(str_tmp)\n",
    "    str_tmp = str_tmp.replace('\\n', '')\n",
    "    str_tmp = str_tmp.replace('\\t', '')\n",
    "    str_tmp = str_tmp.replace('                ','')\n",
    "    str_youtube_userIDs.append(str_tmp)\n",
    "    \n",
    "    str_tmp = str(youtube_comments[i].text) \n",
    "    str_tmp = str_tmp.replace('\\n', '')\n",
    "    str_tmp = str_tmp.replace('\\t', '')\n",
    "    str_tmp = str_tmp.replace('               ', '')\n",
    "   \n",
    "    str_youtube_comments.append(str_tmp)"
   ]
  },
  {
   "cell_type": "code",
   "execution_count": 30,
   "metadata": {},
   "outputs": [
    {
     "name": "stdout",
     "output_type": "stream",
     "text": [
      "보라색               가요대축제 손승완 = 레겐드\n",
      "Stryper               수록곡 맛집 레드벨벳\n",
      "신짱구               웬디 진짜 미친듯이 이쁘네\n",
      "김주연               1:39 웬디 미쳤어........? 진짜 너무 예뻐ㅜㅠㅠ\n",
      "레드벨벳 팬.               0:39히릿!!!!!!!!!!!!!!!!!!!\n",
      "r v               가요대 저때 옷 너무 이뻤지..\n",
      "T U               00:21 레전드 연말조이💚\n",
      "이호연               뿜뿜뿜 힛댓드럼!썸네일에 이끌려온사람 🖐\n",
      "정유진               0:32 1:25 2:35 예리 존예 보라색 찰떡이네,,,,ㅠㅠㅠㅠㅠㅠㅠㅠ\n",
      "이름               요 노래는 전주가 나오는 순간 ☆흥.폭.발☆ 진짜 여름에 들으면 완전 사이다 마신듯 상쾌함\n",
      "옥지민               진짜 레벨은 수록곡들이 말이 않나오네욬ㅎㅋㅎ\n",
      "꼬물이               조이는 음색이 진짜 전나리 이쁘다................얼굴도 이쁘고 안 이쁜게 어디냐.......\n",
      "仲庭澔               Irene💗Seulgi💛Wendy💙Joy💚Yeri💜QUEENS 💗💛💙💚💜\n",
      "과몰입녀               썸네일 순간 보아인줄 알았다 역시 sm상 이때 진짜 예뻤지\n",
      "얘예               역시 수록곡 맛집 예쁜애 옆에 예쁜애 옆에 예쁜애 옆에 예쁜애 옆에 예쁜애 손승완 하얀옷만 입으면 레전드야..\n",
      "Eyebrowstj - Multifandom4Life               Wendy's vocals are sprinkled with gold dust on the regular! Her voice is golden! Listen to that voice!My girls all slay!#GetWellSoonWendy\n",
      "안재휘               썸네일에 이끌려 왔다❤️\n",
      "아무르               썸네일 존예..\n",
      "김영민김원필남우현황민현최수빈나재민               레벨 수록곡 좋은거 많습니다ㅠㅠㅠ다 좋지만 저의 최애곡은 you better know😢😢😢😢😢😢😢\n",
      "오비               예림이 음색도 진짜 좋은데 ㅠㅠㅠㅠ 너무 예쁘고 다 한다 ㅜ\n",
      "ri may_               진짜 예쁘다..❤\n",
      "박준영               노래가 귀에 뿜 하고 한번우리 애들 노는 모습을 보고 심장에 뿜 하고 한번동물 분장에 코피가 뿜 하고 한번💕 레벨 사랑해요 💕\n",
      "Guard the Soul               재팬 콘서트 정말 좋았지..\n",
      "몽글김               가요대축제는 배경 ,분위기, 위상, 메이크업 , 다예뻤음 진짜루 ㅠㅠㅠㅠㅠㅠ 진짜 승완이랑 조이 레전드였다\n",
      "AoiieeYourstruly               Live vocals! 😍Imagine singing live and dancing this beat is so freakin hard! Amazing how can they manage to their breathing techniques. 😍\n",
      "Charlie. Puth               진짜 비트도 그렇고 가사도그렇고 명곡이다...\n",
      "Aminz Yanagi               3:14 Queens slaying with their catwalks\n",
      "룽룰               저렇게 입힐 수 있으면서 평소엔 대체 왜 그러는거야?\n",
      "WINVELVET2PMGENERATION               3:10 내 심장 😶\n",
      "franhound               I can't listen to this song without instinctively hearing Blue Lemonade in my head. Haha. Pop pop pop!\n",
      "김민지               레드벨벳 수록곡 꼭다들어보세요ㅠㅠ너무 좋아ㅠㅜ\n",
      "PARK HAERIM리디아               코로나 짜식 땜에 콘서트 못가는 러비들 ㅠㅠㅠ\n",
      "이병조               레드벨벳 팬이라서 행복합니다♡♡♡♡♡\n",
      "깅동               진짜 다섯명 다 입 떡벌어지게 예쁘네\n",
      "Lovel Y               썸넬 뭐야 진짜 여신인가\n",
      "김윤아               썸네일 ㄹㅇ 놀라서 들어왔다;; 왤케 예쁘지?\n",
      "여름빛소리               승완이 투어 컨디션 좋았던 날은 저 힛댓드럼 10초 고음 중간에 숨 쉬는거 없이 이어서 할 때도 있었는데\n",
      "Minwoong Park               레드벨벳 수록곡은 진짜 하나도 버릴 게 없다 ❤💛💙💚💜\n",
      "러비레베럽               이 곡은 언제 들어도 신나\n",
      "월연               아 둥둥 귀요워ㅠㅠ💚💚\n",
      "따따니아               우오,,,저게 2018년 꺼야...?쓰자마자 (힛잇!) 이랬다 저랬다 내 심장 두드려 나와서 따라부름...역시 마성의 레벨...\n",
      "뇽뇽               언니 사랑해 나 13개월이야\n",
      "Aurelius               Wendyyy!! 💙 She's so eye-catching 😭\n",
      "볼볼빨간사춘기덕배               웬디 어디서😍\n",
      "누가 개를풀어놨어               다섯명 다 너무너무 이쁘다😢😢❤️\n",
      "유영삼               쿠키쟈 교차편집도 올려주세요 💕\n",
      "제제               김예림 보라색 개찰떡 ㅠㅠㅠㅠㅠㅠ\n",
      "JORDAN               노래 너무 신나고 좋앙 ㅠㅠ\n",
      "유영삼               너무 잘 만드셨네요💕쿠키쟈도 올려주세요 💕🍪\n",
      "안녕하세요               썸네일 완전 숲속에 사는 사슴같음\n",
      "애옹               라루즈때 짐살라빔-힛댓드럼 흥 폭팔\n",
      "Eyebrowstj - Multifandom4Life               The dance at 0:50 and 1:52 belongs to Seulgi. I wish the camera focused on her on that part! Main Dancer skills on point 👌👌👌#GetWellSoonWendy\n",
      "G G               0:09 조녜\n",
      "- i n R e v e r i e -               Wendy’s legendary high note\n",
      "강산 권               완다람지 ........ㅠㅠ다람지 귀엽고.....ㅠㅠ....다람지 예쁨\n",
      "scully's derp face is ma laife               OHMYGOD I LOVE SON SEUNGWAN SO MUCH\n",
      "살인마광기의               이 노래 진짜 존나조아함 ㅎ̌̈ㅎ̌̈ 앙넘좋아!!!!!\n",
      "Ngân Nguyễn               Who clicks bc of Irene?\n",
      "쿠쿠               썸네일 너무 잘생겼다..\n",
      "Christopher The Channel               힛댓드럼 레알 띵곡.....ㅠㅠㅠㅠㅠㅠ\n",
      "푸르꽁냐               아이린 썸네일 너무 이쁜데,,, 끌리듯 들어와버렸네..\n",
      "경훈경훈               와우 진짜 꿀리는 애들 없이 다 존예네 어쩜 이러지..?\n",
      "Norol115               Wendy's HIT IT!! 😍😍😍\n",
      "ayung Hh               썸넬 아이린 얼굴보고 헐레벌떡 들어옴\n",
      "예린               가요대 손승완 보고 진짜 뒷목잡음.. 하이틴 여주가 파티간 거 아니냐고..\n",
      "사랑peaches               썸네일.....ㄷㄷ\n",
      "놀라그래               진짜 가요대축제보고 간만에 코디 일했다 생각함\n",
      "민서ᄀ               힛댓드럼 레벨콘서트 필수곡 아니냐며 젤신나\n",
      "조윤하               썸네일.. 미쳤어 으엏\n",
      "김수연               라이브 오졌고\n",
      "레벨따랑해               오늘 최고의 수확은 언니들의  엄청난 미모 흥!\n",
      "song               3:10 I DIED\n",
      "Serra GG_RV               My favorite festival song🎉🎊💗HIT IT!!\n",
      "살인마광기의               콘서트 의상 진짜 존나구리다\n",
      "WoW 馨er               Yesssss official stage mix\n",
      "서현               이 썸네일을 보고 어떻게 안들어와\n",
      "윤상               썸네일 겁나 이쁘네\n",
      "송이               히릿!!!!\n",
      "유리               왜 썸넬에서 권은비가 보이지\n",
      "J H               웬디단발사진이 괜히 미용실에서 유명한게 아니구나..\n",
      "고얌이               썸네일 그래픽같다..\n",
      "리아               오..\n",
      "토도로키쇼토[돼식구]               와 싫어요 하나도없어\n",
      "최유리               썸네일이 유혹했자나\n",
      "s o               썸넬보고 어케 안들어옴?\n",
      "Oshbjhldh               Thank youuuu\n",
      "ᄒ샨               웬디\n",
      "Eyebrowstj - Multifandom4Life               Wendy's dancing always makes me feel some type of way! Her body waves are on point 👌👌👌#GetWellSoonWendy\n",
      "박지모               첫번째 꺼 비트가 던질까 말까라고 말하는것 같다\n",
      "G N               띵곡임 ㅠㅠㅠ 너무좋어\n",
      "A -Avelã               PERFEITASSS\n",
      "yj p               Zoo도 교차편집 있었으면\n",
      "이성훈               라루즈 힛댓드럼은 안풀리려나\n",
      "dhemple medrano               I love you irene. 💜\n",
      "Rere Raizel               LOVEEEE\n",
      "사랑여친               ♥♥\n",
      "주빈TV               1\n",
      "이게무슨일이야               썸네일 아이린 엠마왓슨 닮았는데... 나만 그렇게 느껴...?\n",
      "Kate Do               🥺🖤\n",
      "Noe Noe               Look at our main dancer Kang moves\n",
      "쪙가               썸네일 아이린도 너무 좋지만 다른 멤버들도 해주세용ㅠㅠㅠ\n",
      "Fernanda RO               Soy muy fan de ellas y de verdad creo que tienen las mejores voces de todos los grupos de niñas. Pero mi única frustración es por qué las visten aveces muy bien y se ven super y otras veces que su ropa no expresa sus personalidades ni al grupo. Esa es mi opinión\n"
     ]
    }
   ],
   "source": [
    "for i in range(len(str_youtube_userIDs)):\n",
    "    print(str_youtube_userIDs[i], str_youtube_comments[i])"
   ]
  },
  {
   "cell_type": "code",
   "execution_count": 37,
   "metadata": {},
   "outputs": [],
   "source": [
    "comments =[]\n",
    "for i in range(len(str_youtube_userIDs)):\n",
    "    roww = []\n",
    "    roww.append(str_youtube_comments[i])\n",
    "    comments.append(roww)"
   ]
  },
  {
   "cell_type": "code",
   "execution_count": 38,
   "metadata": {},
   "outputs": [],
   "source": [
    "youtube_index_list = []\n",
    "for i in range(len(str_youtube_userIDs)):\n",
    "    roww = []\n",
    "    roww.append(str_youtube_userIDs[i])\n",
    "    roww.append(str_youtube_comments[i])\n",
    "    youtube_index_list.append(roww)"
   ]
  },
  {
   "cell_type": "code",
   "execution_count": 39,
   "metadata": {
    "scrolled": true
   },
   "outputs": [
    {
     "name": "stdout",
     "output_type": "stream",
     "text": [
      "[['보라색              ', '가요대축제 손승완 = 레겐드'], ['Stryper              ', '수록곡 맛집 레드벨벳'], ['신짱구              ', '웬디 진짜 미친듯이 이쁘네'], ['김주연              ', '1:39 웬디 미쳤어........? 진짜 너무 예뻐ㅜㅠㅠ'], ['레드벨벳 팬.              ', '0:39히릿!!!!!!!!!!!!!!!!!!!'], ['r v              ', '가요대 저때 옷 너무 이뻤지..'], ['T U              ', '00:21 레전드 연말조이💚'], ['이호연              ', '뿜뿜뿜 힛댓드럼!썸네일에 이끌려온사람 🖐'], ['정유진              ', '0:32 1:25 2:35 예리 존예 보라색 찰떡이네,,,,ㅠㅠㅠㅠㅠㅠㅠㅠ'], ['이름              ', '요 노래는 전주가 나오는 순간 ☆흥.폭.발☆ 진짜 여름에 들으면 완전 사이다 마신듯 상쾌함'], ['옥지민              ', '진짜 레벨은 수록곡들이 말이 않나오네욬ㅎㅋㅎ'], ['꼬물이              ', '조이는 음색이 진짜 전나리 이쁘다................얼굴도 이쁘고 안 이쁜게 어디냐.......'], ['仲庭澔              ', 'Irene💗Seulgi💛Wendy💙Joy💚Yeri💜QUEENS 💗💛💙💚💜'], ['과몰입녀              ', '썸네일 순간 보아인줄 알았다 역시 sm상 이때 진짜 예뻤지'], ['얘예              ', '역시 수록곡 맛집 예쁜애 옆에 예쁜애 옆에 예쁜애 옆에 예쁜애 옆에 예쁜애 손승완 하얀옷만 입으면 레전드야..'], ['Eyebrowstj - Multifandom4Life              ', \"Wendy's vocals are sprinkled with gold dust on the regular! Her voice is golden! Listen to that voice!My girls all slay!#GetWellSoonWendy\"], ['안재휘              ', '썸네일에 이끌려 왔다❤️'], ['아무르              ', '썸네일 존예..'], ['김영민김원필남우현황민현최수빈나재민              ', '레벨 수록곡 좋은거 많습니다ㅠㅠㅠ다 좋지만 저의 최애곡은 you better know😢😢😢😢😢😢😢'], ['오비              ', '예림이 음색도 진짜 좋은데 ㅠㅠㅠㅠ 너무 예쁘고 다 한다 ㅜ'], ['ri may_              ', '진짜 예쁘다..❤'], ['박준영              ', '노래가 귀에 뿜 하고 한번우리 애들 노는 모습을 보고 심장에 뿜 하고 한번동물 분장에 코피가 뿜 하고 한번💕 레벨 사랑해요 💕'], ['Guard the Soul              ', '재팬 콘서트 정말 좋았지..'], ['몽글김              ', '가요대축제는 배경 ,분위기, 위상, 메이크업 , 다예뻤음 진짜루 ㅠㅠㅠㅠㅠㅠ 진짜 승완이랑 조이 레전드였다'], ['AoiieeYourstruly              ', 'Live vocals! 😍Imagine singing live and dancing this beat is so freakin hard! Amazing how can they manage to their breathing techniques. 😍'], ['Charlie. Puth              ', '진짜 비트도 그렇고 가사도그렇고 명곡이다...'], ['Aminz Yanagi              ', '3:14 Queens slaying with their catwalks'], ['룽룰              ', '저렇게 입힐 수 있으면서 평소엔 대체 왜 그러는거야?'], ['WINVELVET2PMGENERATION              ', '3:10 내 심장 😶'], ['franhound              ', \"I can't listen to this song without instinctively hearing Blue Lemonade in my head. Haha. Pop pop pop!\"], ['김민지              ', '레드벨벳 수록곡 꼭다들어보세요ㅠㅠ너무 좋아ㅠㅜ'], ['PARK HAERIM리디아              ', '코로나 짜식 땜에 콘서트 못가는 러비들 ㅠㅠㅠ'], ['이병조              ', '레드벨벳 팬이라서 행복합니다♡♡♡♡♡'], ['깅동              ', '진짜 다섯명 다 입 떡벌어지게 예쁘네'], ['Lovel Y              ', '썸넬 뭐야 진짜 여신인가'], ['김윤아              ', '썸네일 ㄹㅇ 놀라서 들어왔다;; 왤케 예쁘지?'], ['여름빛소리              ', '승완이 투어 컨디션 좋았던 날은 저 힛댓드럼 10초 고음 중간에 숨 쉬는거 없이 이어서 할 때도 있었는데'], ['Minwoong Park              ', '레드벨벳 수록곡은 진짜 하나도 버릴 게 없다 ❤💛💙💚💜'], ['러비레베럽              ', '이 곡은 언제 들어도 신나'], ['월연              ', '아 둥둥 귀요워ㅠㅠ💚💚'], ['따따니아              ', '우오,,,저게 2018년 꺼야...?쓰자마자 (힛잇!) 이랬다 저랬다 내 심장 두드려 나와서 따라부름...역시 마성의 레벨...'], ['뇽뇽              ', '언니 사랑해 나 13개월이야'], ['Aurelius              ', \"Wendyyy!! 💙 She's so eye-catching 😭\"], ['볼볼빨간사춘기덕배              ', '웬디 어디서😍'], ['누가 개를풀어놨어              ', '다섯명 다 너무너무 이쁘다😢😢❤️'], ['유영삼              ', '쿠키쟈 교차편집도 올려주세요 💕'], ['제제              ', '김예림 보라색 개찰떡 ㅠㅠㅠㅠㅠㅠ'], ['JORDAN              ', '노래 너무 신나고 좋앙 ㅠㅠ'], ['유영삼              ', '너무 잘 만드셨네요💕쿠키쟈도 올려주세요 💕🍪'], ['안녕하세요              ', '썸네일 완전 숲속에 사는 사슴같음'], ['애옹              ', '라루즈때 짐살라빔-힛댓드럼 흥 폭팔'], ['Eyebrowstj - Multifandom4Life              ', 'The dance at 0:50 and 1:52 belongs to Seulgi. I wish the camera focused on her on that part! Main Dancer skills on point 👌👌👌#GetWellSoonWendy'], ['G G              ', '0:09 조녜'], ['- i n R e v e r i e -              ', 'Wendy’s legendary high note'], ['강산 권              ', '완다람지 ........ㅠㅠ다람지 귀엽고.....ㅠㅠ....다람지 예쁨'], [\"scully's derp face is ma laife              \", 'OHMYGOD I LOVE SON SEUNGWAN SO MUCH'], ['살인마광기의              ', '이 노래 진짜 존나조아함 ㅎ̌̈ㅎ̌̈ 앙넘좋아!!!!!'], ['Ngân Nguyễn              ', 'Who clicks bc of Irene?'], ['쿠쿠              ', '썸네일 너무 잘생겼다..'], ['Christopher The Channel              ', '힛댓드럼 레알 띵곡.....ㅠㅠㅠㅠㅠㅠ'], ['푸르꽁냐              ', '아이린 썸네일 너무 이쁜데,,, 끌리듯 들어와버렸네..'], ['경훈경훈              ', '와우 진짜 꿀리는 애들 없이 다 존예네 어쩜 이러지..?'], ['Norol115              ', \"Wendy's HIT IT!! 😍😍😍\"], ['ayung Hh              ', '썸넬 아이린 얼굴보고 헐레벌떡 들어옴'], ['예린              ', '가요대 손승완 보고 진짜 뒷목잡음.. 하이틴 여주가 파티간 거 아니냐고..'], ['사랑peaches              ', '썸네일.....ㄷㄷ'], ['놀라그래              ', '진짜 가요대축제보고 간만에 코디 일했다 생각함'], ['민서ᄀ              ', '힛댓드럼 레벨콘서트 필수곡 아니냐며 젤신나'], ['조윤하              ', '썸네일.. 미쳤어 으엏'], ['김수연              ', '라이브 오졌고'], ['레벨따랑해              ', '오늘 최고의 수확은 언니들의  엄청난 미모 흥!'], ['song              ', '3:10 I DIED'], ['Serra GG_RV              ', 'My favorite festival song🎉🎊💗HIT IT!!'], ['살인마광기의              ', '콘서트 의상 진짜 존나구리다'], ['WoW 馨er              ', 'Yesssss official stage mix'], ['서현              ', '이 썸네일을 보고 어떻게 안들어와'], ['윤상              ', '썸네일 겁나 이쁘네'], ['송이              ', '히릿!!!!'], ['유리              ', '왜 썸넬에서 권은비가 보이지'], ['J H              ', '웬디단발사진이 괜히 미용실에서 유명한게 아니구나..'], ['고얌이              ', '썸네일 그래픽같다..'], ['리아              ', '오..'], ['토도로키쇼토[돼식구]              ', '와 싫어요 하나도없어'], ['최유리              ', '썸네일이 유혹했자나'], ['s o              ', '썸넬보고 어케 안들어옴?'], ['Oshbjhldh              ', 'Thank youuuu'], ['ᄒ샨              ', '웬디'], ['Eyebrowstj - Multifandom4Life              ', \"Wendy's dancing always makes me feel some type of way! Her body waves are on point 👌👌👌#GetWellSoonWendy\"], ['박지모              ', '첫번째 꺼 비트가 던질까 말까라고 말하는것 같다'], ['G N              ', '띵곡임 ㅠㅠㅠ 너무좋어'], ['A -Avelã              ', 'PERFEITASSS'], ['yj p              ', 'Zoo도 교차편집 있었으면'], ['이성훈              ', '라루즈 힛댓드럼은 안풀리려나'], ['dhemple medrano              ', 'I love you irene. 💜'], ['Rere Raizel              ', 'LOVEEEE'], ['사랑여친              ', '♥♥'], ['주빈TV              ', '1'], ['이게무슨일이야              ', '썸네일 아이린 엠마왓슨 닮았는데... 나만 그렇게 느껴...?'], ['Kate Do              ', '🥺🖤'], ['Noe Noe              ', 'Look at our main dancer Kang moves'], ['쪙가              ', '썸네일 아이린도 너무 좋지만 다른 멤버들도 해주세용ㅠㅠㅠ'], ['Fernanda RO              ', 'Soy muy fan de ellas y de verdad creo que tienen las mejores voces de todos los grupos de niñas. Pero mi única frustración es por qué las visten aveces muy bien y se ven super y otras veces que su ropa no expresa sus personalidades ni al grupo. Esa es mi opinión']]\n"
     ]
    }
   ],
   "source": [
    "print(youtube_index_list)"
   ]
  },
  {
   "cell_type": "code",
   "execution_count": 40,
   "metadata": {
    "scrolled": true
   },
   "outputs": [
    {
     "name": "stdout",
     "output_type": "stream",
     "text": [
      "                            ID  \\\n",
      "0            보라색                 \n",
      "1        Stryper                 \n",
      "2            신짱구                 \n",
      "3            김주연                 \n",
      "4        레드벨벳 팬.                 \n",
      "..                         ...   \n",
      "97       이게무슨일이야                 \n",
      "98       Kate Do                 \n",
      "99       Noe Noe                 \n",
      "100           쪙가                 \n",
      "101  Fernanda RO                 \n",
      "\n",
      "                                               Comment  \n",
      "0                                      가요대축제 손승완 = 레겐드  \n",
      "1                                          수록곡 맛집 레드벨벳  \n",
      "2                                       웬디 진짜 미친듯이 이쁘네  \n",
      "3                     1:39 웬디 미쳤어........? 진짜 너무 예뻐ㅜㅠㅠ  \n",
      "4                            0:39히릿!!!!!!!!!!!!!!!!!!!  \n",
      "..                                                 ...  \n",
      "97                  썸네일 아이린 엠마왓슨 닮았는데... 나만 그렇게 느껴...?  \n",
      "98                                                  🥺🖤  \n",
      "99                  Look at our main dancer Kang moves  \n",
      "100                    썸네일 아이린도 너무 좋지만 다른 멤버들도 해주세용ㅠㅠㅠ  \n",
      "101  Soy muy fan de ellas y de verdad creo que tien...  \n",
      "\n",
      "[102 rows x 2 columns]\n"
     ]
    }
   ],
   "source": [
    "import pandas as pd \n",
    "pd_data = {\"ID\":str_youtube_userIDs, \"Comment\":str_youtube_comments} \n",
    "youtube_pd = pd.DataFrame(pd_data)\n",
    "print(youtube_pd)"
   ]
  },
  {
   "cell_type": "code",
   "execution_count": 48,
   "metadata": {},
   "outputs": [
    {
     "data": {
      "text/plain": [
       "<function TextIOWrapper.close()>"
      ]
     },
     "execution_count": 48,
     "metadata": {},
     "output_type": "execute_result"
    }
   ],
   "source": [
    "file = open('youtube_pd.txt','w',encoding = 'utf-8')\n",
    "for comment in comments:\n",
    "    Strcomment = \" \".join(comment)\n",
    "    file.write(Strcomment)\n",
    "file.close"
   ]
  },
  {
   "cell_type": "code",
   "execution_count": null,
   "metadata": {},
   "outputs": [],
   "source": []
  }
 ],
 "metadata": {
  "kernelspec": {
   "display_name": "Python 3",
   "language": "python",
   "name": "python3"
  },
  "language_info": {
   "codemirror_mode": {
    "name": "ipython",
    "version": 3
   },
   "file_extension": ".py",
   "mimetype": "text/x-python",
   "name": "python",
   "nbconvert_exporter": "python",
   "pygments_lexer": "ipython3",
   "version": "3.7.6"
  }
 },
 "nbformat": 4,
 "nbformat_minor": 4
}
