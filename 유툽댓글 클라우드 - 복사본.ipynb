{
 "cells": [
  {
   "cell_type": "code",
   "execution_count": 49,
   "metadata": {},
   "outputs": [],
   "source": [
    "from selenium import webdriver as wd \n",
    "from bs4 import BeautifulSoup \n",
    "import time \n",
    "import openpyxl"
   ]
  },
  {
   "cell_type": "code",
   "execution_count": 50,
   "metadata": {},
   "outputs": [],
   "source": [
    "import matplotlib.pyplot as plt\n",
    "from konlpy.tag import Hannanum\n",
    "from bs4 import BeautifulSoup\n",
    "import time\n",
    "from selenium.webdriver import Chrome\n",
    "from selenium.webdriver.common.keys import Keys\n",
    "import pandas as pd\n",
    "import re\n",
    "from collections import Counter\n",
    "from wordcloud import WordCloud"
   ]
  },
  {
   "cell_type": "code",
   "execution_count": 51,
   "metadata": {},
   "outputs": [],
   "source": [
    "font_path_input = 'C:/Windows/Fonts/malgun.ttf'"
   ]
  },
  {
   "cell_type": "code",
   "execution_count": 52,
   "metadata": {},
   "outputs": [],
   "source": [
    "driver = wd.Chrome(executable_path=\"C:/Users/mrclo/Desktop/chromedriver\") \n",
    "url = 'https://www.youtube.com/watch?v=iKVn9Asu61c' \n",
    "driver.get(url) \n",
    "last_page_height = driver.execute_script(\"return document.documentElement.scrollHeight\") "
   ]
  },
  {
   "cell_type": "code",
   "execution_count": 53,
   "metadata": {},
   "outputs": [],
   "source": [
    "while True: \n",
    "    driver.execute_script(\"window.scrollTo(0, document.documentElement.scrollHeight);\") \n",
    "    time.sleep(3) \n",
    "    new_page_height = driver.execute_script(\"return document.documentElement.scrollHeight\") \n",
    "    \n",
    "    if new_page_height == last_page_height: \n",
    "        break \n",
    "    last_page_height = new_page_height"
   ]
  },
  {
   "cell_type": "code",
   "execution_count": 54,
   "metadata": {},
   "outputs": [],
   "source": [
    "html_source = driver.page_source\n",
    "driver.close()\n",
    "soup = BeautifulSoup(html_source, 'html.parser')"
   ]
  },
  {
   "cell_type": "code",
   "execution_count": 55,
   "metadata": {},
   "outputs": [],
   "source": [
    "youtube_user_IDs = soup.select('div#header-author > a > span')"
   ]
  },
  {
   "cell_type": "code",
   "execution_count": 56,
   "metadata": {},
   "outputs": [],
   "source": [
    "youtube_comments = soup.select('yt-formatted-string#content-text')"
   ]
  },
  {
   "cell_type": "code",
   "execution_count": 57,
   "metadata": {},
   "outputs": [],
   "source": [
    "str_youtube_userIDs = []\n",
    "str_youtube_comments = []\n",
    "\n",
    "for i in range(len(youtube_user_IDs)):\n",
    "    str_tmp = str(youtube_user_IDs[i].text)\n",
    "#     print(str_tmp)\n",
    "    str_tmp = str_tmp.replace('\\n', '')\n",
    "    str_tmp = str_tmp.replace('\\t', '')\n",
    "    str_tmp = str_tmp.replace('                ','')\n",
    "    str_youtube_userIDs.append(str_tmp)\n",
    "    \n",
    "    str_tmp = str(youtube_comments[i].text) \n",
    "    str_tmp = str_tmp.replace('\\n', '')\n",
    "    str_tmp = str_tmp.replace('\\t', '')\n",
    "    str_tmp = str_tmp.replace('               ', '')\n",
    "   \n",
    "    str_youtube_comments.append(str_tmp)"
   ]
  },
  {
   "cell_type": "code",
   "execution_count": 58,
   "metadata": {},
   "outputs": [
    {
     "name": "stdout",
     "output_type": "stream",
     "text": [
      "            묻섹나게           철판 닭갈비는 빨간머리 아줌마네가 진짜 혜잔데 여러분들은 거기로 가세여 학생들 가면 음료수나 사리도 서비스로 주심\n",
      "            sara D           Who ever puts the English subtitles needs a pay raise.\n",
      "            extraterrestrial friend           저골목에서 빨간머리아줌마집이 제일맛있는데.. 딱봐도 거기만 손님많잖아요ㅋㅋ\n",
      "            langdynes           oh man i don't think I've ever had legit 닭갈비 but everything in this ep looked sooo good! and i almost lost it when they brought out the 더덕 that's one of my favorite side dishes 😭😭\n",
      "            Apostle Paul           춘천 명동에 닭갈비 골목은 관광객들이나 가는거죠... 진짜베기는 차타고 나가야 하는 통나무집이나 일점오, 강대쪽 우미가 진짜베기 맛집이죠.\n",
      "            저는뿡치에요           메밀엨ㅋㅋㅋㅋㅋㅋ쇠를 대면 맛이없는뎈ㅋㅋㅋㅋㅋㅋㅋㅋㅋㅋㅋ젓가락이 쇠임ㅋㅋㅋㅋㅌㅋㅌㅋㅋㅋㅋㅋㅋㅋㅋㅋ웃겨디졐ㅋㅋㅋㅋㅋㅋㅋㅋㅋㅋㅋ\n",
      "            morrison6666           댓글보니 결론 로컬들은 저길 안간다는 말이구만......똑같네.. 부산에서 회 먹으러 자갈치 안간다는거랑...차라리 민락 회타운에서 회 끊어 먹지.. ㅋㅋ\n",
      "            Winona Daphne           they cut him everytime he talks about his past 😂\n",
      "            Spider Yoongi           I just want to thank whoever does the English subtitles. Your sense of humor is on point 👌👌\n",
      "            Chowna Thor           I been watching your show lately and I became a fan. I love love how positive you are. You’re so inspiring! ❤️❤️ you got love from California in the US.\n",
      "            hyun aaron           우미 , 우성, 1.5 닭갈비가 춘천사람들이 자주가고 유명 , 지나가다 그이름 보이면 어차피 가족들이 다 운영하거나 체인점 줘서 소스 납품하는거라 다 맛있을 거임.\n",
      "            나라김           맛있는건 당연해야하는거고 가격이 창렬이네 ㅋㅋㅋ 더덕구이 한접시 만오천원 실화냐ㅋㅋㅋㅋ\n",
      "            오상근           빨간머리 아주머니 개쿨해 ㅋㅋㅋㅋ\n",
      "            nur afira           When he bring thoes aunties to fight 😂\n",
      "            욤이TV           2:08 ㅋㅋㅋㅋㅋㅋㅋ원조끼리 토론시키는 건 첨봄ㅋㅋㅋㅋㅋㅋㅋ\n",
      "            KENZO           7:14 아줌마:이 색히가?\n",
      "            강현박           맛 다똑같음.. 진짜로..ㅋㅋㅋㅋ 진짜 원조는 원조숯불닭불고기라고 검증된 원조집입니다... 막국수는 가게마다 스타일이 다 달라서 아무데나 가도 상관없을듯\n",
      "            나만볼거야           0:47 여기 원조인 사람 다 돌아가시고 ㅋㅋㅋㅋ\n",
      "            지근수           ㄹㅇ 로컬 사람이고 저기서 장사하시는 사람 아들인데 저렇게 말씀하시고 오래된 곳도 있고 아닌곳도 있습니다. 가게 사정상 사장님이 바뀌니까요 그런데 몇몇 가게들은 진짜로 대에 걸쳐서 장사 하시는 분들도 있습니다. 그리고 점점 사람들 발길이 끊기는 이유가 저기 입구에서 담배를 피고 침도 뱉고 더럽습니다. 호객행위도 있는 집이 있구요. 하지만 그런거 안하고 진짜 오래된 곳도 있으니 검색 조금만 하셔서 관광하러 오셨으면 합니다.\n",
      "            핑구           4:53  구독 팔로우 ㅁㅊㅋㅋㅋㅋㅋㅋㅋㅋㅋㅋㅋㅋㅋㅋㅋㅋㅋㅋㅋㅋㅋㅋㅋㅋㅋㅋㅋㅋㅋㅋㅋㅋㅋㅋㅌㅋㅌㅌㅋㅋ젤 웃겼다\n",
      "            Tanya 101           Thank you for English Subtitles!!! I subscribed!! 😘\n",
      "            O Le           춘천. 통나무닭갈비 아시느분 쏴리 질러~!\n",
      "            ghostface killah           \"And when you hungry i can shut you up with stir fry.\" ?????? Mac Miller reference???????\n",
      "            김진흥           2:19 ㅋㅋㅋㅋㅋ 닭갈비집끼리 싸움붙이고 있네ㄲㅋㅋㄲ\n",
      "            피자는도미노           댓글에 나온 현지인 추천 맛집 정리 (3월1일 23시45분 이후 업뎃없음)[닭갈비]명동우미닭갈비 (12,000원) / 영서로 2345 / 033-255-19191.5닭갈비 (12,000원) / 후만로 77 / 033-253-8635우성닭갈비 (12,000원) / 후만로 81 / 033-254-0053학곡리닭갈비 (12,000원) / 공지로 29 / 033-261-5775춘천통나무집닭갈비 (11,000원) / 신북읍 신샘밭로 763 / 033-241-5999비와별닭갈비(애막골점) (12,000원) / 애막골길11번길 38 / 033-262-0043원조숯불닭불고기 (11,000원) / 낙원길 28-4 / 033-257-5326황토숯불닭갈비 (11,000원) / 보안길 15 / 033-244-4595참미닭갈비 (11,000원) / 충열로16번길 21-17 / 033-253-4966진미닭갈비본점 (12,000원) / 백령로 51 / 033-243-2888가라매기닭갈비 (10,000원) / 충열로16번길 24 / 033-242-2053[막국수]시골막국수 (7,500원) / 신북읍 율문길 100 / 033-242-6833명가막국수 (7,500원) / 신북읍 상천3길 8 / 033-241-8443청송막국수 (7,000원) / 벌말길 68 / 033-261-6788삼교리동치미막국수 (7,000원) / 동면 춘천순환로 822 / 033-242-9988유포리막국수 (7,500원) / 신북읍 맥국2길 123 / 033-242-5168별당막국수 (7,000원) / 공지로 390 / 033-254-9603\n",
      "            김승우           이형은 언제나 봐도 느끼지만 이형도잼있는데 편집이 씹하드캐리함\n",
      "            Rachael Tsosie           6:48 wow what a throwback!!! 🤣🤣🤣🤣🤣\n",
      "            Sandra B           1:45 you like my ring? gee thanks, just bought it 😂😂😂 that ariana grande reference lol I love whoever wrote the subs 😂\n",
      "            kvine elo           4:50 틀니빠진 할머니\n",
      "            sun west           7:12 쇠젓가락 논리 미쳣다\n",
      "            selen aydın           I’m so hungry now. Omg 🤦🏼‍♀️\n",
      "            박가영           춘천 8년 자취했는데 혜정닭갈비 ㅇㅈ.....\n",
      "            이준수           0:43 다아아아아!!!!\n",
      "            Sebomi Jang           “근데 이건 쇠잖아요”ㅋㅋㅋㅋㅋㅋㅋㅋ넘웃겨욬ㅋㅋㅋㅋㅋ아 와썹맨 이태원 경리단길 또 와줬음 좋겠다... 미리 알려주세여 🙋🏽‍♀️\n",
      "            르브론두란트           어우 근데 너무 비싸졌다\n",
      "            김승현           아니 양이 왜 저렇게 적음?\n",
      "            [오띠스토리]Otti Story           진짜 웃기다 첨부터 끝까지 다웃기네ㅋㅋㅋㅋ\n"
     ]
    }
   ],
   "source": [
    "for i in range(len(str_youtube_userIDs)):\n",
    "    print(str_youtube_userIDs[i], str_youtube_comments[i])"
   ]
  },
  {
   "cell_type": "code",
   "execution_count": 59,
   "metadata": {},
   "outputs": [],
   "source": [
    "comments =[]\n",
    "for i in range(len(str_youtube_userIDs)):\n",
    "    roww = []\n",
    "    roww.append(str_youtube_comments[i])\n",
    "    comments.append(roww)"
   ]
  },
  {
   "cell_type": "code",
   "execution_count": 60,
   "metadata": {},
   "outputs": [],
   "source": [
    "youtube_index_list = []\n",
    "for i in range(len(str_youtube_userIDs)):\n",
    "    roww = []\n",
    "    roww.append(str_youtube_userIDs[i])\n",
    "    roww.append(str_youtube_comments[i])\n",
    "    youtube_index_list.append(roww)"
   ]
  },
  {
   "cell_type": "code",
   "execution_count": 61,
   "metadata": {
    "scrolled": true
   },
   "outputs": [
    {
     "name": "stdout",
     "output_type": "stream",
     "text": [
      "[['            묻섹나게          ', '철판 닭갈비는 빨간머리 아줌마네가 진짜 혜잔데 여러분들은 거기로 가세여 학생들 가면 음료수나 사리도 서비스로 주심'], ['            sara D          ', 'Who ever puts the English subtitles needs a pay raise.'], ['            extraterrestrial friend          ', '저골목에서 빨간머리아줌마집이 제일맛있는데.. 딱봐도 거기만 손님많잖아요ㅋㅋ'], ['            langdynes          ', \"oh man i don't think I've ever had legit 닭갈비 but everything in this ep looked sooo good! and i almost lost it when they brought out the 더덕 that's one of my favorite side dishes 😭😭\"], ['            Apostle Paul          ', '춘천 명동에 닭갈비 골목은 관광객들이나 가는거죠... 진짜베기는 차타고 나가야 하는 통나무집이나 일점오, 강대쪽 우미가 진짜베기 맛집이죠.'], ['            저는뿡치에요          ', '메밀엨ㅋㅋㅋㅋㅋㅋ쇠를 대면 맛이없는뎈ㅋㅋㅋㅋㅋㅋㅋㅋㅋㅋㅋ젓가락이 쇠임ㅋㅋㅋㅋㅌㅋㅌㅋㅋㅋㅋㅋㅋㅋㅋㅋ웃겨디졐ㅋㅋㅋㅋㅋㅋㅋㅋㅋㅋㅋ'], ['            morrison6666          ', '댓글보니 결론 로컬들은 저길 안간다는 말이구만......똑같네.. 부산에서 회 먹으러 자갈치 안간다는거랑...차라리 민락 회타운에서 회 끊어 먹지.. ㅋㅋ'], ['            Winona Daphne          ', 'they cut him everytime he talks about his past 😂'], ['            Spider Yoongi          ', 'I just want to thank whoever does the English subtitles. Your sense of humor is on point 👌👌'], ['            Chowna Thor          ', 'I been watching your show lately and I became a fan. I love love how positive you are. You’re so inspiring! ❤️❤️ you got love from California in the US.'], ['            hyun aaron          ', '우미 , 우성, 1.5 닭갈비가 춘천사람들이 자주가고 유명 , 지나가다 그이름 보이면 어차피 가족들이 다 운영하거나 체인점 줘서 소스 납품하는거라 다 맛있을 거임.'], ['            나라김          ', '맛있는건 당연해야하는거고 가격이 창렬이네 ㅋㅋㅋ 더덕구이 한접시 만오천원 실화냐ㅋㅋㅋㅋ'], ['            오상근          ', '빨간머리 아주머니 개쿨해 ㅋㅋㅋㅋ'], ['            nur afira          ', 'When he bring thoes aunties to fight 😂'], ['            욤이TV          ', '2:08 ㅋㅋㅋㅋㅋㅋㅋ원조끼리 토론시키는 건 첨봄ㅋㅋㅋㅋㅋㅋㅋ'], ['            KENZO          ', '7:14 아줌마:이 색히가?'], ['            강현박          ', '맛 다똑같음.. 진짜로..ㅋㅋㅋㅋ 진짜 원조는 원조숯불닭불고기라고 검증된 원조집입니다... 막국수는 가게마다 스타일이 다 달라서 아무데나 가도 상관없을듯'], ['            나만볼거야          ', '0:47 여기 원조인 사람 다 돌아가시고 ㅋㅋㅋㅋ'], ['            지근수          ', 'ㄹㅇ 로컬 사람이고 저기서 장사하시는 사람 아들인데 저렇게 말씀하시고 오래된 곳도 있고 아닌곳도 있습니다. 가게 사정상 사장님이 바뀌니까요 그런데 몇몇 가게들은 진짜로 대에 걸쳐서 장사 하시는 분들도 있습니다. 그리고 점점 사람들 발길이 끊기는 이유가 저기 입구에서 담배를 피고 침도 뱉고 더럽습니다. 호객행위도 있는 집이 있구요. 하지만 그런거 안하고 진짜 오래된 곳도 있으니 검색 조금만 하셔서 관광하러 오셨으면 합니다.'], ['            핑구          ', '4:53  구독 팔로우 ㅁㅊㅋㅋㅋㅋㅋㅋㅋㅋㅋㅋㅋㅋㅋㅋㅋㅋㅋㅋㅋㅋㅋㅋㅋㅋㅋㅋㅋㅋㅋㅋㅋㅋㅋㅋㅌㅋㅌㅌㅋㅋ젤 웃겼다'], ['            Tanya 101          ', 'Thank you for English Subtitles!!! I subscribed!! 😘'], ['            O Le          ', '춘천. 통나무닭갈비 아시느분 쏴리 질러~!'], ['            ghostface killah          ', '\"And when you hungry i can shut you up with stir fry.\" ?????? Mac Miller reference???????'], ['            김진흥          ', '2:19 ㅋㅋㅋㅋㅋ 닭갈비집끼리 싸움붙이고 있네ㄲㅋㅋㄲ'], ['            피자는도미노          ', '댓글에 나온 현지인 추천 맛집 정리 (3월1일 23시45분 이후 업뎃없음)[닭갈비]명동우미닭갈비 (12,000원) / 영서로 2345 / 033-255-19191.5닭갈비 (12,000원) / 후만로 77 / 033-253-8635우성닭갈비 (12,000원) / 후만로 81 / 033-254-0053학곡리닭갈비 (12,000원) / 공지로 29 / 033-261-5775춘천통나무집닭갈비 (11,000원) / 신북읍 신샘밭로 763 / 033-241-5999비와별닭갈비(애막골점) (12,000원) / 애막골길11번길 38 / 033-262-0043원조숯불닭불고기 (11,000원) / 낙원길 28-4 / 033-257-5326황토숯불닭갈비 (11,000원) / 보안길 15 / 033-244-4595참미닭갈비 (11,000원) / 충열로16번길 21-17 / 033-253-4966진미닭갈비본점 (12,000원) / 백령로 51 / 033-243-2888가라매기닭갈비 (10,000원) / 충열로16번길 24 / 033-242-2053[막국수]시골막국수 (7,500원) / 신북읍 율문길 100 / 033-242-6833명가막국수 (7,500원) / 신북읍 상천3길 8 / 033-241-8443청송막국수 (7,000원) / 벌말길 68 / 033-261-6788삼교리동치미막국수 (7,000원) / 동면 춘천순환로 822 / 033-242-9988유포리막국수 (7,500원) / 신북읍 맥국2길 123 / 033-242-5168별당막국수 (7,000원) / 공지로 390 / 033-254-9603'], ['            김승우          ', '이형은 언제나 봐도 느끼지만 이형도잼있는데 편집이 씹하드캐리함'], ['            Rachael Tsosie          ', '6:48 wow what a throwback!!! 🤣🤣🤣🤣🤣'], ['            Sandra B          ', '1:45 you like my ring? gee thanks, just bought it 😂😂😂 that ariana grande reference lol I love whoever wrote the subs 😂'], ['            kvine elo          ', '4:50 틀니빠진 할머니'], ['            sun west          ', '7:12 쇠젓가락 논리 미쳣다'], ['            selen aydın          ', 'I’m so hungry now. Omg 🤦🏼\\u200d♀️'], ['            박가영          ', '춘천 8년 자취했는데 혜정닭갈비 ㅇㅈ.....'], ['            이준수          ', '0:43 다아아아아!!!!'], ['            Sebomi Jang          ', '“근데 이건 쇠잖아요”ㅋㅋㅋㅋㅋㅋㅋㅋ넘웃겨욬ㅋㅋㅋㅋㅋ아 와썹맨 이태원 경리단길 또 와줬음 좋겠다... 미리 알려주세여 🙋🏽\\u200d♀️'], ['            르브론두란트          ', '어우 근데 너무 비싸졌다'], ['            김승현          ', '아니 양이 왜 저렇게 적음?'], ['            [오띠스토리]Otti Story          ', '진짜 웃기다 첨부터 끝까지 다웃기네ㅋㅋㅋㅋ']]\n"
     ]
    }
   ],
   "source": [
    "print(youtube_index_list)"
   ]
  },
  {
   "cell_type": "code",
   "execution_count": 62,
   "metadata": {
    "scrolled": true
   },
   "outputs": [
    {
     "name": "stdout",
     "output_type": "stream",
     "text": [
      "                                               ID  \\\n",
      "0                                  묻섹나게             \n",
      "1                                sara D             \n",
      "2               extraterrestrial friend             \n",
      "3                             langdynes             \n",
      "4                          Apostle Paul             \n",
      "5                                저는뿡치에요             \n",
      "6                          morrison6666             \n",
      "7                         Winona Daphne             \n",
      "8                         Spider Yoongi             \n",
      "9                           Chowna Thor             \n",
      "10                           hyun aaron             \n",
      "11                                  나라김             \n",
      "12                                  오상근             \n",
      "13                            nur afira             \n",
      "14                                 욤이TV             \n",
      "15                                KENZO             \n",
      "16                                  강현박             \n",
      "17                                나만볼거야             \n",
      "18                                  지근수             \n",
      "19                                   핑구             \n",
      "20                            Tanya 101             \n",
      "21                                 O Le             \n",
      "22                     ghostface killah             \n",
      "23                                  김진흥             \n",
      "24                               피자는도미노             \n",
      "25                                  김승우             \n",
      "26                       Rachael Tsosie             \n",
      "27                             Sandra B             \n",
      "28                            kvine elo             \n",
      "29                             sun west             \n",
      "30                          selen aydın             \n",
      "31                                  박가영             \n",
      "32                                  이준수             \n",
      "33                          Sebomi Jang             \n",
      "34                               르브론두란트             \n",
      "35                                  김승현             \n",
      "36                    [오띠스토리]Otti Story             \n",
      "\n",
      "                                              Comment  \n",
      "0   철판 닭갈비는 빨간머리 아줌마네가 진짜 혜잔데 여러분들은 거기로 가세여 학생들 가면...  \n",
      "1   Who ever puts the English subtitles needs a pa...  \n",
      "2           저골목에서 빨간머리아줌마집이 제일맛있는데.. 딱봐도 거기만 손님많잖아요ㅋㅋ  \n",
      "3   oh man i don't think I've ever had legit 닭갈비 b...  \n",
      "4   춘천 명동에 닭갈비 골목은 관광객들이나 가는거죠... 진짜베기는 차타고 나가야 하는...  \n",
      "5   메밀엨ㅋㅋㅋㅋㅋㅋ쇠를 대면 맛이없는뎈ㅋㅋㅋㅋㅋㅋㅋㅋㅋㅋㅋ젓가락이 쇠임ㅋㅋㅋㅋㅌㅋㅌㅋ...  \n",
      "6   댓글보니 결론 로컬들은 저길 안간다는 말이구만......똑같네.. 부산에서 회 먹으...  \n",
      "7    they cut him everytime he talks about his past 😂  \n",
      "8   I just want to thank whoever does the English ...  \n",
      "9   I been watching your show lately and I became ...  \n",
      "10  우미 , 우성, 1.5 닭갈비가 춘천사람들이 자주가고 유명 , 지나가다 그이름 보이...  \n",
      "11   맛있는건 당연해야하는거고 가격이 창렬이네 ㅋㅋㅋ 더덕구이 한접시 만오천원 실화냐ㅋㅋㅋㅋ  \n",
      "12                                 빨간머리 아주머니 개쿨해 ㅋㅋㅋㅋ  \n",
      "13             When he bring thoes aunties to fight 😂  \n",
      "14                 2:08 ㅋㅋㅋㅋㅋㅋㅋ원조끼리 토론시키는 건 첨봄ㅋㅋㅋㅋㅋㅋㅋ  \n",
      "15                                    7:14 아줌마:이 색히가?  \n",
      "16  맛 다똑같음.. 진짜로..ㅋㅋㅋㅋ 진짜 원조는 원조숯불닭불고기라고 검증된 원조집입니...  \n",
      "17                        0:47 여기 원조인 사람 다 돌아가시고 ㅋㅋㅋㅋ  \n",
      "18  ㄹㅇ 로컬 사람이고 저기서 장사하시는 사람 아들인데 저렇게 말씀하시고 오래된 곳도 ...  \n",
      "19  4:53  구독 팔로우 ㅁㅊㅋㅋㅋㅋㅋㅋㅋㅋㅋㅋㅋㅋㅋㅋㅋㅋㅋㅋㅋㅋㅋㅋㅋㅋㅋㅋㅋㅋㅋㅋㅋ...  \n",
      "20  Thank you for English Subtitles!!! I subscribe...  \n",
      "21                            춘천. 통나무닭갈비 아시느분 쏴리 질러~!  \n",
      "22  \"And when you hungry i can shut you up with st...  \n",
      "23                     2:19 ㅋㅋㅋㅋㅋ 닭갈비집끼리 싸움붙이고 있네ㄲㅋㅋㄲ  \n",
      "24  댓글에 나온 현지인 추천 맛집 정리 (3월1일 23시45분 이후 업뎃없음)[닭갈비]...  \n",
      "25                 이형은 언제나 봐도 느끼지만 이형도잼있는데 편집이 씹하드캐리함  \n",
      "26                 6:48 wow what a throwback!!! 🤣🤣🤣🤣🤣  \n",
      "27  1:45 you like my ring? gee thanks, just bought...  \n",
      "28                                      4:50 틀니빠진 할머니  \n",
      "29                                   7:12 쇠젓가락 논리 미쳣다  \n",
      "30                       I’m so hungry now. Omg 🤦🏼‍♀️  \n",
      "31                          춘천 8년 자취했는데 혜정닭갈비 ㅇㅈ.....  \n",
      "32                                     0:43 다아아아아!!!!  \n",
      "33  “근데 이건 쇠잖아요”ㅋㅋㅋㅋㅋㅋㅋㅋ넘웃겨욬ㅋㅋㅋㅋㅋ아 와썹맨 이태원 경리단길 또 ...  \n",
      "34                                      어우 근데 너무 비싸졌다  \n",
      "35                                    아니 양이 왜 저렇게 적음?  \n",
      "36                            진짜 웃기다 첨부터 끝까지 다웃기네ㅋㅋㅋㅋ  \n"
     ]
    }
   ],
   "source": [
    "import pandas as pd \n",
    "pd_data = {\"ID\":str_youtube_userIDs, \"Comment\":str_youtube_comments} \n",
    "youtube_pd = pd.DataFrame(pd_data)\n",
    "print(youtube_pd)"
   ]
  },
  {
   "cell_type": "code",
   "execution_count": 63,
   "metadata": {},
   "outputs": [],
   "source": [
    "youtube_pd.to_csv('youtube_crawling2.csv', mode='w', encoding='utf-8-sig')"
   ]
  },
  {
   "cell_type": "code",
   "execution_count": 64,
   "metadata": {},
   "outputs": [],
   "source": [
    "texts = ''\n",
    "for i in list(youtube_pd['Comment']):\n",
    "    texts += i"
   ]
  },
  {
   "cell_type": "code",
   "execution_count": 65,
   "metadata": {},
   "outputs": [],
   "source": [
    "emoji_pattern = re.compile(\"[\"\n",
    "                           u\"\\U0001F600-\\U0001F64F\"  \n",
    "                           u\"\\U0001F300-\\U0001F5FF\"  \n",
    "                           u\"\\U0001F680-\\U0001F6FF\"  \n",
    "                           u\"\\U0001F1E0-\\U0001F1FF\"  \n",
    "                           \"]+\", flags=re.UNICODE)\n",
    "han = re.compile(r'[ㄱ-ㅎㅏ-ㅣ!?~,\".\\n\\r#\\ufeff\\u200d]')\n",
    "comment_result = []\n",
    "str_result = ''\n",
    "for i in texts:\n",
    "    tokens = re.sub(emoji_pattern, \"\", i)\n",
    "    tokens = re.sub(han, \"\", tokens)\n",
    "    str_result += tokens\n",
    "    comment_result.append(tokens)\n",
    "    #내용 정제(불필요한 이모지 등 삭제)"
   ]
  },
  {
   "cell_type": "code",
   "execution_count": 66,
   "metadata": {},
   "outputs": [],
   "source": [
    "hannanum = Hannanum()\n",
    "noun_words = list(hannanum.nouns(str_result))\n",
    "#가장 많이 중복되는 단어를 내림차순으로 정렬. 그리고 dict 타입으로 캐스팅."
   ]
  },
  {
   "cell_type": "code",
   "execution_count": 67,
   "metadata": {},
   "outputs": [
    {
     "name": "stdout",
     "output_type": "stream",
     "text": [
      "{'12000원': 6, '진짜': 5, '닭갈비': 4, '11000원': 4, '신북읍': 4, '원조': 3, '사람': 3, '7500원': 3, '7000원': 3, '거기': 2, '춘천': 2, '대': 2, '15': 2, '이': 2, '장사': 2, '곳': 2, '후만로': 2, '공지': 2, '충열로16번길': 2, '철판': 1, '빨간머리': 1, '아줌마네가': 1, '혜잔데': 1, '여러분들': 1, '가세': 1, '학생들': 1, '음료수': 1, '사리': 1, '서비스': 1, '주심Who': 1, 'raise저골목': 1, '빨간머리아줌마집': 1, '제일맛': 1, '딱봐': 1, '손님많잖아요oh': 1, '더덕': 1, '명동': 1, '골목': 1, '관광객들': 1, '가는거죠': 1, '진짜베기': 1, '통나무집': 1, '일점오': 1, '강대쪽': 1, '우미': 1, '진짜베': 1, '맛집이죠메밀엨쇠': 1, '맛이없는뎈젓가락': 1, '쇠임웃겨디졐댓글보': 1, '결론': 1, '로컬들': 1, '저길': 1, '안간다': 1, '말이구만똑같네': 1, '부산': 1, '자갈치': 1, '안간다는거랑차라리': 1, '민락': 1, '회타운': 1, 'You’re': 1, '❤️❤️': 1, 'US우미': 1, '우성': 1, '춘천사람들': 1, '자주가': 1, '유명': 1, '그이름': 1, '가족들': 1, '운영': 1, '체인점': 1, '소스': 1, '납품': 1, '것': 1, '거임맛있는건': 1, '당연해야하는거': 1, '가격': 1, '창렬이네': 1, '더덕구이': 1, '한접시': 1, '만오천원': 1, '실화냐빨간머리': 1, '아주머니': 1, '개쿨해': 1, '2': 1, '08': 1, '토론': 1, '거': 1, '첨봄7:14': 1, '아줌마': 1, '색히가맛': 1, '다똑같음': 1, '원조숯불닭불고기': 1, '검증': 1, '원조집': 1, '막국수': 1, '스타일': 1, '아무데': 1, '상관없을듯0:47': 1, '로컬': 1, '저': 1, '아들': 1, '말씀하시': 1, '아닌곳': 1, '사정상': 1, '사장님': 1, '몇몇': 1, '가게들': 1, '들': 1, '사람들': 1, '발길': 1, '이유': 1, '입구': 1, '담배': 1, '호객행위': 1, '집': 1, '있구요': 1, '그런거': 1, '안': 1, '검색': 1, '조금': 1, '관광': 1, '합니다4:53': 1, '구독': 1, '팔로우': 1, '젤': 1, '웃겼다Thank': 1, '통나무닭갈비': 1, '아시느분': 1, '쏴리': 1, '질러And': 1, 'reference2:19': 1, '닭갈비집끼리': 1, '싸움붙': 1, '있네댓글': 1, '현지': 1, '추천': 1, '맛집': 1, '정리': 1, '(3월1': 1, '23시45분': 1, '이후': 1, '업뎃없음)[닭갈비]명동우미닭갈비': 1, '영서로': 1, '2345': 1, '033-255-191915닭갈비': 1, '77': 1, '033-253-8635우성닭갈비': 1, '81': 1, '033-254-0053학곡리닭갈비': 1, '29': 1, '033-261-5775춘천통나무집닭갈비': 1, '신샘밭': 1, '763': 1, '033-241-5999비와별닭갈비(애막골점)': 1, '애막골길11번길': 1, '38': 1, '033-262-0043원조숯불닭불고': 1, '낙원길': 1, '28-4': 1, '033-257-5326황토숯불닭갈비': 1, '보안길': 1, '033-244-4595참미닭갈비': 1, '21-17': 1, '033-253-4966진미닭갈비본점': 1, '백령로': 1, '51': 1, '033-243-2888가라매기닭갈비': 1, '10000원': 1, '24': 1, '033-242-2053[막국수]시골막국수': 1, '율문길': 1, '100': 1, '033-242-6833명가막국수': 1, '상천3길': 1, '8': 1, '033-241-8443청송막국수': 1, '벌': 1, '길': 1, '68': 1, '033-261-6788삼교리동치미막국수': 1, '동': 1, '춘천순환': 1, '822': 1, '033-242-9988유포리막국수': 1, '맥국2길': 1, '123': 1, '033-242-5168별당막국수': 1, '390': 1, '033-254-9603이형': 1, '이형도잼있는데': 1, '편집': 1, '씹하드캐리함6:48': 1, '🤣🤣🤣🤣🤣1:45': 1, '4': 1, '50': 1, '틀니빠진': 1, '할머니7:12': 1, '쇠젓가락': 1, '논리': 1, '미쳣다I’m': 1, '🤦♀️춘천': 1, '8년': 1, '자취했는데': 1, '혜정닭갈비': 1, '0': 1, '43': 1, '다아아아아“근데': 1, '쇠잖아요”넘웃겨욬아': 1, '와썹맨': 1, '이태원': 1, '경리단길': 1, '알려주세': 1, '♀️어우': 1, '근데': 1, '비싸졌다아': 1, '양': 1, '적음진짜': 1, '첨': 1, '끝': 1, '다웃기': 1}\n"
     ]
    }
   ],
   "source": [
    "count = Counter(noun_words)\n",
    "words = dict(count.most_common())\n",
    "print(words)"
   ]
  },
  {
   "cell_type": "code",
   "execution_count": 68,
   "metadata": {},
   "outputs": [
    {
     "data": {
      "image/png": "[encoded data removed]",
      "text/plain": [
       "<Figure size 432x288 with 1 Axes>"
      ]
     },
     "metadata": {
      "needs_background": "light"
     },
     "output_type": "display_data"
    }
   ],
   "source": [
    "words_ = words\n",
    "words_save = pd.DataFrame(words_, index=[0])\n",
    "words_save.to_csv(\"youtube_crawling_words.csv\", mode='w', encoding='utf-8-sig')\n",
    "\n",
    "wordcloud = WordCloud(font_path=font_path_input, background_color='white', width=1600, height=1200)\n",
    "cloud = wordcloud.generate_from_frequencies(words)\n",
    "plt.imshow(cloud)\n",
    "plt.axis('off')\n",
    "plt.show()"
   ]
  },
  {
   "cell_type": "code",
   "execution_count": null,
   "metadata": {},
   "outputs": [],
   "source": []
  }
 ],
 "metadata": {
  "kernelspec": {
   "display_name": "Python 3",
   "language": "python",
   "name": "python3"
  },
  "language_info": {
   "codemirror_mode": {
    "name": "ipython",
    "version": 3
   },
   "file_extension": ".py",
   "mimetype": "text/x-python",
   "name": "python",
   "nbconvert_exporter": "python",
   "pygments_lexer": "ipython3",
   "version": "3.7.6"
  }
 },
 "nbformat": 4,
 "nbformat_minor": 4
}
